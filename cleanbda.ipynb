{
  "nbformat": 4,
  "nbformat_minor": 0,
  "metadata": {
    "colab": {
      "name": "cleanbda.ipynb",
      "provenance": [],
      "collapsed_sections": [],
      "authorship_tag": "ABX9TyO6xvC9dfqsT/BrqEz2T4q5",
      "include_colab_link": true
    },
    "kernelspec": {
      "name": "python3",
      "display_name": "Python 3"
    },
    "language_info": {
      "name": "python"
    }
  },
  "cells": [
    {
      "cell_type": "markdown",
      "metadata": {
        "id": "view-in-github",
        "colab_type": "text"
      },
      "source": [
        "<a href=\"https://colab.research.google.com/github/Kevin29Johnson/Data_Cleaning_Code_for_BigDataProject/blob/main/cleanbda.ipynb\" target=\"_parent\"><img src=\"https://colab.research.google.com/assets/colab-badge.svg\" alt=\"Open In Colab\"/></a>"
      ]
    },
    {
      "cell_type": "markdown",
      "metadata": {
        "id": "O0Z2n2yVknvs"
      },
      "source": [
        "**CLEANING AND PRE-PROCESSING OF PRODUCT DATA**"
      ]
    },
    {
      "cell_type": "code",
      "metadata": {
        "id": "uPdvq6j1CgY4"
      },
      "source": [
        "import pandas as pd\n",
        "import seaborn as sns\n",
        "import numpy as np\n",
        "import matplotlib.pyplot as plt\n",
        "%matplotlib inline\n"
      ],
      "execution_count": 1,
      "outputs": []
    },
    {
      "cell_type": "code",
      "metadata": {
        "colab": {
          "resources": {
            "http://localhost:8080/nbextensions/google.colab/files.js": {
              "data": "Ly8gQ29weXJpZ2h0IDIwMTcgR29vZ2xlIExMQwovLwovLyBMaWNlbnNlZCB1bmRlciB0aGUgQXBhY2hlIExpY2Vuc2UsIFZlcnNpb24gMi4wICh0aGUgIkxpY2Vuc2UiKTsKLy8geW91IG1heSBub3QgdXNlIHRoaXMgZmlsZSBleGNlcHQgaW4gY29tcGxpYW5jZSB3aXRoIHRoZSBMaWNlbnNlLgovLyBZb3UgbWF5IG9idGFpbiBhIGNvcHkgb2YgdGhlIExpY2Vuc2UgYXQKLy8KLy8gICAgICBodHRwOi8vd3d3LmFwYWNoZS5vcmcvbGljZW5zZXMvTElDRU5TRS0yLjAKLy8KLy8gVW5sZXNzIHJlcXVpcmVkIGJ5IGFwcGxpY2FibGUgbGF3IG9yIGFncmVlZCB0byBpbiB3cml0aW5nLCBzb2Z0d2FyZQovLyBkaXN0cmlidXRlZCB1bmRlciB0aGUgTGljZW5zZSBpcyBkaXN0cmlidXRlZCBvbiBhbiAiQVMgSVMiIEJBU0lTLAovLyBXSVRIT1VUIFdBUlJBTlRJRVMgT1IgQ09ORElUSU9OUyBPRiBBTlkgS0lORCwgZWl0aGVyIGV4cHJlc3Mgb3IgaW1wbGllZC4KLy8gU2VlIHRoZSBMaWNlbnNlIGZvciB0aGUgc3BlY2lmaWMgbGFuZ3VhZ2UgZ292ZXJuaW5nIHBlcm1pc3Npb25zIGFuZAovLyBsaW1pdGF0aW9ucyB1bmRlciB0aGUgTGljZW5zZS4KCi8qKgogKiBAZmlsZW92ZXJ2aWV3IEhlbHBlcnMgZm9yIGdvb2dsZS5jb2xhYiBQeXRob24gbW9kdWxlLgogKi8KKGZ1bmN0aW9uKHNjb3BlKSB7CmZ1bmN0aW9uIHNwYW4odGV4dCwgc3R5bGVBdHRyaWJ1dGVzID0ge30pIHsKICBjb25zdCBlbGVtZW50ID0gZG9jdW1lbnQuY3JlYXRlRWxlbWVudCgnc3BhbicpOwogIGVsZW1lbnQudGV4dENvbnRlbnQgPSB0ZXh0OwogIGZvciAoY29uc3Qga2V5IG9mIE9iamVjdC5rZXlzKHN0eWxlQXR0cmlidXRlcykpIHsKICAgIGVsZW1lbnQuc3R5bGVba2V5XSA9IHN0eWxlQXR0cmlidXRlc1trZXldOwogIH0KICByZXR1cm4gZWxlbWVudDsKfQoKLy8gTWF4IG51bWJlciBvZiBieXRlcyB3aGljaCB3aWxsIGJlIHVwbG9hZGVkIGF0IGEgdGltZS4KY29uc3QgTUFYX1BBWUxPQURfU0laRSA9IDEwMCAqIDEwMjQ7CgpmdW5jdGlvbiBfdXBsb2FkRmlsZXMoaW5wdXRJZCwgb3V0cHV0SWQpIHsKICBjb25zdCBzdGVwcyA9IHVwbG9hZEZpbGVzU3RlcChpbnB1dElkLCBvdXRwdXRJZCk7CiAgY29uc3Qgb3V0cHV0RWxlbWVudCA9IGRvY3VtZW50LmdldEVsZW1lbnRCeUlkKG91dHB1dElkKTsKICAvLyBDYWNoZSBzdGVwcyBvbiB0aGUgb3V0cHV0RWxlbWVudCB0byBtYWtlIGl0IGF2YWlsYWJsZSBmb3IgdGhlIG5leHQgY2FsbAogIC8vIHRvIHVwbG9hZEZpbGVzQ29udGludWUgZnJvbSBQeXRob24uCiAgb3V0cHV0RWxlbWVudC5zdGVwcyA9IHN0ZXBzOwoKICByZXR1cm4gX3VwbG9hZEZpbGVzQ29udGludWUob3V0cHV0SWQpOwp9CgovLyBUaGlzIGlzIHJvdWdobHkgYW4gYXN5bmMgZ2VuZXJhdG9yIChub3Qgc3VwcG9ydGVkIGluIHRoZSBicm93c2VyIHlldCksCi8vIHdoZXJlIHRoZXJlIGFyZSBtdWx0aXBsZSBhc3luY2hyb25vdXMgc3RlcHMgYW5kIHRoZSBQeXRob24gc2lkZSBpcyBnb2luZwovLyB0byBwb2xsIGZvciBjb21wbGV0aW9uIG9mIGVhY2ggc3RlcC4KLy8gVGhpcyB1c2VzIGEgUHJvbWlzZSB0byBibG9jayB0aGUgcHl0aG9uIHNpZGUgb24gY29tcGxldGlvbiBvZiBlYWNoIHN0ZXAsCi8vIHRoZW4gcGFzc2VzIHRoZSByZXN1bHQgb2YgdGhlIHByZXZpb3VzIHN0ZXAgYXMgdGhlIGlucHV0IHRvIHRoZSBuZXh0IHN0ZXAuCmZ1bmN0aW9uIF91cGxvYWRGaWxlc0NvbnRpbnVlKG91dHB1dElkKSB7CiAgY29uc3Qgb3V0cHV0RWxlbWVudCA9IGRvY3VtZW50LmdldEVsZW1lbnRCeUlkKG91dHB1dElkKTsKICBjb25zdCBzdGVwcyA9IG91dHB1dEVsZW1lbnQuc3RlcHM7CgogIGNvbnN0IG5leHQgPSBzdGVwcy5uZXh0KG91dHB1dEVsZW1lbnQubGFzdFByb21pc2VWYWx1ZSk7CiAgcmV0dXJuIFByb21pc2UucmVzb2x2ZShuZXh0LnZhbHVlLnByb21pc2UpLnRoZW4oKHZhbHVlKSA9PiB7CiAgICAvLyBDYWNoZSB0aGUgbGFzdCBwcm9taXNlIHZhbHVlIHRvIG1ha2UgaXQgYXZhaWxhYmxlIHRvIHRoZSBuZXh0CiAgICAvLyBzdGVwIG9mIHRoZSBnZW5lcmF0b3IuCiAgICBvdXRwdXRFbGVtZW50Lmxhc3RQcm9taXNlVmFsdWUgPSB2YWx1ZTsKICAgIHJldHVybiBuZXh0LnZhbHVlLnJlc3BvbnNlOwogIH0pOwp9CgovKioKICogR2VuZXJhdG9yIGZ1bmN0aW9uIHdoaWNoIGlzIGNhbGxlZCBiZXR3ZWVuIGVhY2ggYXN5bmMgc3RlcCBvZiB0aGUgdXBsb2FkCiAqIHByb2Nlc3MuCiAqIEBwYXJhbSB7c3RyaW5nfSBpbnB1dElkIEVsZW1lbnQgSUQgb2YgdGhlIGlucHV0IGZpbGUgcGlja2VyIGVsZW1lbnQuCiAqIEBwYXJhbSB7c3RyaW5nfSBvdXRwdXRJZCBFbGVtZW50IElEIG9mIHRoZSBvdXRwdXQgZGlzcGxheS4KICogQHJldHVybiB7IUl0ZXJhYmxlPCFPYmplY3Q+fSBJdGVyYWJsZSBvZiBuZXh0IHN0ZXBzLgogKi8KZnVuY3Rpb24qIHVwbG9hZEZpbGVzU3RlcChpbnB1dElkLCBvdXRwdXRJZCkgewogIGNvbnN0IGlucHV0RWxlbWVudCA9IGRvY3VtZW50LmdldEVsZW1lbnRCeUlkKGlucHV0SWQpOwogIGlucHV0RWxlbWVudC5kaXNhYmxlZCA9IGZhbHNlOwoKICBjb25zdCBvdXRwdXRFbGVtZW50ID0gZG9jdW1lbnQuZ2V0RWxlbWVudEJ5SWQob3V0cHV0SWQpOwogIG91dHB1dEVsZW1lbnQuaW5uZXJIVE1MID0gJyc7CgogIGNvbnN0IHBpY2tlZFByb21pc2UgPSBuZXcgUHJvbWlzZSgocmVzb2x2ZSkgPT4gewogICAgaW5wdXRFbGVtZW50LmFkZEV2ZW50TGlzdGVuZXIoJ2NoYW5nZScsIChlKSA9PiB7CiAgICAgIHJlc29sdmUoZS50YXJnZXQuZmlsZXMpOwogICAgfSk7CiAgfSk7CgogIGNvbnN0IGNhbmNlbCA9IGRvY3VtZW50LmNyZWF0ZUVsZW1lbnQoJ2J1dHRvbicpOwogIGlucHV0RWxlbWVudC5wYXJlbnRFbGVtZW50LmFwcGVuZENoaWxkKGNhbmNlbCk7CiAgY2FuY2VsLnRleHRDb250ZW50ID0gJ0NhbmNlbCB1cGxvYWQnOwogIGNvbnN0IGNhbmNlbFByb21pc2UgPSBuZXcgUHJvbWlzZSgocmVzb2x2ZSkgPT4gewogICAgY2FuY2VsLm9uY2xpY2sgPSAoKSA9PiB7CiAgICAgIHJlc29sdmUobnVsbCk7CiAgICB9OwogIH0pOwoKICAvLyBXYWl0IGZvciB0aGUgdXNlciB0byBwaWNrIHRoZSBmaWxlcy4KICBjb25zdCBmaWxlcyA9IHlpZWxkIHsKICAgIHByb21pc2U6IFByb21pc2UucmFjZShbcGlja2VkUHJvbWlzZSwgY2FuY2VsUHJvbWlzZV0pLAogICAgcmVzcG9uc2U6IHsKICAgICAgYWN0aW9uOiAnc3RhcnRpbmcnLAogICAgfQogIH07CgogIGNhbmNlbC5yZW1vdmUoKTsKCiAgLy8gRGlzYWJsZSB0aGUgaW5wdXQgZWxlbWVudCBzaW5jZSBmdXJ0aGVyIHBpY2tzIGFyZSBub3QgYWxsb3dlZC4KICBpbnB1dEVsZW1lbnQuZGlzYWJsZWQgPSB0cnVlOwoKICBpZiAoIWZpbGVzKSB7CiAgICByZXR1cm4gewogICAgICByZXNwb25zZTogewogICAgICAgIGFjdGlvbjogJ2NvbXBsZXRlJywKICAgICAgfQogICAgfTsKICB9CgogIGZvciAoY29uc3QgZmlsZSBvZiBmaWxlcykgewogICAgY29uc3QgbGkgPSBkb2N1bWVudC5jcmVhdGVFbGVtZW50KCdsaScpOwogICAgbGkuYXBwZW5kKHNwYW4oZmlsZS5uYW1lLCB7Zm9udFdlaWdodDogJ2JvbGQnfSkpOwogICAgbGkuYXBwZW5kKHNwYW4oCiAgICAgICAgYCgke2ZpbGUudHlwZSB8fCAnbi9hJ30pIC0gJHtmaWxlLnNpemV9IGJ5dGVzLCBgICsKICAgICAgICBgbGFzdCBtb2RpZmllZDogJHsKICAgICAgICAgICAgZmlsZS5sYXN0TW9kaWZpZWREYXRlID8gZmlsZS5sYXN0TW9kaWZpZWREYXRlLnRvTG9jYWxlRGF0ZVN0cmluZygpIDoKICAgICAgICAgICAgICAgICAgICAgICAgICAgICAgICAgICAgJ24vYSd9IC0gYCkpOwogICAgY29uc3QgcGVyY2VudCA9IHNwYW4oJzAlIGRvbmUnKTsKICAgIGxpLmFwcGVuZENoaWxkKHBlcmNlbnQpOwoKICAgIG91dHB1dEVsZW1lbnQuYXBwZW5kQ2hpbGQobGkpOwoKICAgIGNvbnN0IGZpbGVEYXRhUHJvbWlzZSA9IG5ldyBQcm9taXNlKChyZXNvbHZlKSA9PiB7CiAgICAgIGNvbnN0IHJlYWRlciA9IG5ldyBGaWxlUmVhZGVyKCk7CiAgICAgIHJlYWRlci5vbmxvYWQgPSAoZSkgPT4gewogICAgICAgIHJlc29sdmUoZS50YXJnZXQucmVzdWx0KTsKICAgICAgfTsKICAgICAgcmVhZGVyLnJlYWRBc0FycmF5QnVmZmVyKGZpbGUpOwogICAgfSk7CiAgICAvLyBXYWl0IGZvciB0aGUgZGF0YSB0byBiZSByZWFkeS4KICAgIGxldCBmaWxlRGF0YSA9IHlpZWxkIHsKICAgICAgcHJvbWlzZTogZmlsZURhdGFQcm9taXNlLAogICAgICByZXNwb25zZTogewogICAgICAgIGFjdGlvbjogJ2NvbnRpbnVlJywKICAgICAgfQogICAgfTsKCiAgICAvLyBVc2UgYSBjaHVua2VkIHNlbmRpbmcgdG8gYXZvaWQgbWVzc2FnZSBzaXplIGxpbWl0cy4gU2VlIGIvNjIxMTU2NjAuCiAgICBsZXQgcG9zaXRpb24gPSAwOwogICAgZG8gewogICAgICBjb25zdCBsZW5ndGggPSBNYXRoLm1pbihmaWxlRGF0YS5ieXRlTGVuZ3RoIC0gcG9zaXRpb24sIE1BWF9QQVlMT0FEX1NJWkUpOwogICAgICBjb25zdCBjaHVuayA9IG5ldyBVaW50OEFycmF5KGZpbGVEYXRhLCBwb3NpdGlvbiwgbGVuZ3RoKTsKICAgICAgcG9zaXRpb24gKz0gbGVuZ3RoOwoKICAgICAgY29uc3QgYmFzZTY0ID0gYnRvYShTdHJpbmcuZnJvbUNoYXJDb2RlLmFwcGx5KG51bGwsIGNodW5rKSk7CiAgICAgIHlpZWxkIHsKICAgICAgICByZXNwb25zZTogewogICAgICAgICAgYWN0aW9uOiAnYXBwZW5kJywKICAgICAgICAgIGZpbGU6IGZpbGUubmFtZSwKICAgICAgICAgIGRhdGE6IGJhc2U2NCwKICAgICAgICB9LAogICAgICB9OwoKICAgICAgbGV0IHBlcmNlbnREb25lID0gZmlsZURhdGEuYnl0ZUxlbmd0aCA9PT0gMCA/CiAgICAgICAgICAxMDAgOgogICAgICAgICAgTWF0aC5yb3VuZCgocG9zaXRpb24gLyBmaWxlRGF0YS5ieXRlTGVuZ3RoKSAqIDEwMCk7CiAgICAgIHBlcmNlbnQudGV4dENvbnRlbnQgPSBgJHtwZXJjZW50RG9uZX0lIGRvbmVgOwoKICAgIH0gd2hpbGUgKHBvc2l0aW9uIDwgZmlsZURhdGEuYnl0ZUxlbmd0aCk7CiAgfQoKICAvLyBBbGwgZG9uZS4KICB5aWVsZCB7CiAgICByZXNwb25zZTogewogICAgICBhY3Rpb246ICdjb21wbGV0ZScsCiAgICB9CiAgfTsKfQoKc2NvcGUuZ29vZ2xlID0gc2NvcGUuZ29vZ2xlIHx8IHt9OwpzY29wZS5nb29nbGUuY29sYWIgPSBzY29wZS5nb29nbGUuY29sYWIgfHwge307CnNjb3BlLmdvb2dsZS5jb2xhYi5fZmlsZXMgPSB7CiAgX3VwbG9hZEZpbGVzLAogIF91cGxvYWRGaWxlc0NvbnRpbnVlLAp9Owp9KShzZWxmKTsK",
              "ok": true,
              "headers": [
                [
                  "content-type",
                  "application/javascript"
                ]
              ],
              "status": 200,
              "status_text": ""
            }
          },
          "base_uri": "https://localhost:8080/",
          "height": 73
        },
        "id": "BciXdEG5Deyl",
        "outputId": "a66dbefb-2ed8-401c-df2c-89b72a47b6ee"
      },
      "source": [
        "from google.colab import files\n",
        "   \n",
        "uploaded = files.upload()"
      ],
      "execution_count": 2,
      "outputs": [
        {
          "output_type": "display_data",
          "data": {
            "text/html": [
              "\n",
              "     <input type=\"file\" id=\"files-ebb28df3-dadb-45a4-a203-5f2df88329de\" name=\"files[]\" multiple disabled\n",
              "        style=\"border:none\" />\n",
              "     <output id=\"result-ebb28df3-dadb-45a4-a203-5f2df88329de\">\n",
              "      Upload widget is only available when the cell has been executed in the\n",
              "      current browser session. Please rerun this cell to enable.\n",
              "      </output>\n",
              "      <script src=\"/nbextensions/google.colab/files.js\"></script> "
            ],
            "text/plain": [
              "<IPython.core.display.HTML object>"
            ]
          },
          "metadata": {}
        },
        {
          "output_type": "stream",
          "name": "stdout",
          "text": [
            "Saving bigbasket_products.csv to bigbasket_products.csv\n"
          ]
        }
      ]
    },
    {
      "cell_type": "markdown",
      "metadata": {
        "id": "lx0ZdNIalTde"
      },
      "source": [
        "**BASIC DATA EXPLORATION**\n",
        "\n",
        "checking the shape , info and summary of the dataset "
      ]
    },
    {
      "cell_type": "code",
      "metadata": {
        "colab": {
          "base_uri": "https://localhost:8080/",
          "height": 478
        },
        "id": "UKPyf-OyFpZj",
        "outputId": "412f6e80-e0ba-4844-fe36-2eac68fa0f32"
      },
      "source": [
        "df=pd.read_csv('bigbasket_products.csv')\n",
        "df.head(4)"
      ],
      "execution_count": 3,
      "outputs": [
        {
          "output_type": "execute_result",
          "data": {
            "text/html": [
              "<div>\n",
              "<style scoped>\n",
              "    .dataframe tbody tr th:only-of-type {\n",
              "        vertical-align: middle;\n",
              "    }\n",
              "\n",
              "    .dataframe tbody tr th {\n",
              "        vertical-align: top;\n",
              "    }\n",
              "\n",
              "    .dataframe thead th {\n",
              "        text-align: right;\n",
              "    }\n",
              "</style>\n",
              "<table border=\"1\" class=\"dataframe\">\n",
              "  <thead>\n",
              "    <tr style=\"text-align: right;\">\n",
              "      <th></th>\n",
              "      <th>Unnamed: 0</th>\n",
              "      <th>product</th>\n",
              "      <th>category</th>\n",
              "      <th>sub_category</th>\n",
              "      <th>brand</th>\n",
              "      <th>sale_price</th>\n",
              "      <th>market_price</th>\n",
              "      <th>image_url</th>\n",
              "      <th>p_url</th>\n",
              "      <th>type</th>\n",
              "      <th>eancode</th>\n",
              "      <th>rating</th>\n",
              "      <th>description</th>\n",
              "    </tr>\n",
              "  </thead>\n",
              "  <tbody>\n",
              "    <tr>\n",
              "      <th>0</th>\n",
              "      <td>0</td>\n",
              "      <td>Original Disinfectant Toilet Cleaner Liquid</td>\n",
              "      <td>Cleaning &amp; Household</td>\n",
              "      <td>All Purpose Cleaners</td>\n",
              "      <td>Harpic</td>\n",
              "      <td>489.00</td>\n",
              "      <td>534.0</td>\n",
              "      <td>https://www.bigbasket.com/media/uploads/p/s/12...</td>\n",
              "      <td>https://www.bigbasket.com/pd/1207190/harpic-or...</td>\n",
              "      <td>Toilet Cleaners</td>\n",
              "      <td>Invalid Code</td>\n",
              "      <td>4.2</td>\n",
              "      <td>Harpic All in One is the one-stop shop for all...</td>\n",
              "    </tr>\n",
              "    <tr>\n",
              "      <th>1</th>\n",
              "      <td>1</td>\n",
              "      <td>Disinfectant Surface &amp; Floor Cleaner Liquid - ...</td>\n",
              "      <td>Cleaning &amp; Household</td>\n",
              "      <td>All Purpose Cleaners</td>\n",
              "      <td>Lizol</td>\n",
              "      <td>302.00</td>\n",
              "      <td>380.0</td>\n",
              "      <td>https://www.bigbasket.com/media/uploads/p/s/24...</td>\n",
              "      <td>https://www.bigbasket.com/pd/249154/lizol-disi...</td>\n",
              "      <td>Floor &amp; Other Cleaners</td>\n",
              "      <td>8901396115113</td>\n",
              "      <td>4.2</td>\n",
              "      <td>Lizol is India's No.1 Household Cleaning Brand...</td>\n",
              "    </tr>\n",
              "    <tr>\n",
              "      <th>2</th>\n",
              "      <td>2</td>\n",
              "      <td>Surface Disinfectant Spray</td>\n",
              "      <td>Cleaning &amp; Household</td>\n",
              "      <td>All Purpose Cleaners</td>\n",
              "      <td>Savlon</td>\n",
              "      <td>256.76</td>\n",
              "      <td>318.0</td>\n",
              "      <td>https://www.bigbasket.com/media/uploads/p/s/12...</td>\n",
              "      <td>https://www.bigbasket.com/pd/1212019/savlon-su...</td>\n",
              "      <td>Disinfectant Spray &amp; Cleaners</td>\n",
              "      <td>Invalid Code</td>\n",
              "      <td>4.4</td>\n",
              "      <td>A wide variety of high traffic surfaces such a...</td>\n",
              "    </tr>\n",
              "    <tr>\n",
              "      <th>3</th>\n",
              "      <td>3</td>\n",
              "      <td>Harpic Disinfectant Toilet Cleaner Original200...</td>\n",
              "      <td>Cleaning &amp; Household</td>\n",
              "      <td>All Purpose Cleaners</td>\n",
              "      <td>bb Combo</td>\n",
              "      <td>74.48</td>\n",
              "      <td>76.0</td>\n",
              "      <td>https://www.bigbasket.com/media/uploads/p/s/12...</td>\n",
              "      <td>https://www.bigbasket.com/pd/1204983/bb-combo-...</td>\n",
              "      <td>Toilet Cleaners</td>\n",
              "      <td>Invalid Code</td>\n",
              "      <td>NaN</td>\n",
              "      <td>Harpic All in One is the one stop shop for all...</td>\n",
              "    </tr>\n",
              "  </tbody>\n",
              "</table>\n",
              "</div>"
            ],
            "text/plain": [
              "   Unnamed: 0  ...                                        description\n",
              "0           0  ...  Harpic All in One is the one-stop shop for all...\n",
              "1           1  ...  Lizol is India's No.1 Household Cleaning Brand...\n",
              "2           2  ...  A wide variety of high traffic surfaces such a...\n",
              "3           3  ...  Harpic All in One is the one stop shop for all...\n",
              "\n",
              "[4 rows x 13 columns]"
            ]
          },
          "metadata": {},
          "execution_count": 3
        }
      ]
    },
    {
      "cell_type": "code",
      "metadata": {
        "colab": {
          "base_uri": "https://localhost:8080/"
        },
        "id": "FtUnKZejF4cZ",
        "outputId": "0537f7ba-95e4-4b46-8ed9-f1a6e71e2e32"
      },
      "source": [
        "df.columns"
      ],
      "execution_count": 4,
      "outputs": [
        {
          "output_type": "execute_result",
          "data": {
            "text/plain": [
              "Index(['Unnamed: 0', 'product', 'category', 'sub_category', 'brand',\n",
              "       'sale_price', 'market_price', 'image_url', 'p_url', 'type', 'eancode',\n",
              "       'rating', 'description'],\n",
              "      dtype='object')"
            ]
          },
          "metadata": {},
          "execution_count": 4
        }
      ]
    },
    {
      "cell_type": "code",
      "metadata": {
        "colab": {
          "base_uri": "https://localhost:8080/"
        },
        "id": "tEHK948BGBDP",
        "outputId": "db0eb694-99b6-4865-bc24-6ad028de0eda"
      },
      "source": [
        "df.info()"
      ],
      "execution_count": 5,
      "outputs": [
        {
          "output_type": "stream",
          "name": "stdout",
          "text": [
            "<class 'pandas.core.frame.DataFrame'>\n",
            "RangeIndex: 27555 entries, 0 to 27554\n",
            "Data columns (total 13 columns):\n",
            " #   Column        Non-Null Count  Dtype  \n",
            "---  ------        --------------  -----  \n",
            " 0   Unnamed: 0    27555 non-null  int64  \n",
            " 1   product       27554 non-null  object \n",
            " 2   category      27555 non-null  object \n",
            " 3   sub_category  27555 non-null  object \n",
            " 4   brand         27554 non-null  object \n",
            " 5   sale_price    27555 non-null  float64\n",
            " 6   market_price  27555 non-null  float64\n",
            " 7   image_url     27555 non-null  object \n",
            " 8   p_url         27555 non-null  object \n",
            " 9   type          27555 non-null  object \n",
            " 10  eancode       26991 non-null  object \n",
            " 11  rating        18892 non-null  float64\n",
            " 12  description   27440 non-null  object \n",
            "dtypes: float64(3), int64(1), object(9)\n",
            "memory usage: 2.7+ MB\n"
          ]
        }
      ]
    },
    {
      "cell_type": "markdown",
      "metadata": {
        "id": "zAiKNoMQlg7F"
      },
      "source": [
        "**CHECKING FOR NULL VALUES**"
      ]
    },
    {
      "cell_type": "code",
      "metadata": {
        "colab": {
          "base_uri": "https://localhost:8080/",
          "height": 344
        },
        "id": "3qD4PTGIGEpd",
        "outputId": "cd44f169-8982-46bc-c76e-e93ad0f12066"
      },
      "source": [
        "sns.heatmap(df.isnull(),cmap='viridis')"
      ],
      "execution_count": 6,
      "outputs": [
        {
          "output_type": "execute_result",
          "data": {
            "text/plain": [
              "<matplotlib.axes._subplots.AxesSubplot at 0x7febfc5e3290>"
            ]
          },
          "metadata": {},
          "execution_count": 6
        },
        {
          "output_type": "display_data",
          "data": {
            "image/png": "[encoded data removed]",
            "text/plain": [
              "<Figure size 432x288 with 2 Axes>"
            ]
          },
          "metadata": {
            "needs_background": "light"
          }
        }
      ]
    },
    {
      "cell_type": "markdown",
      "metadata": {
        "id": "A5u46lfVnvwt"
      },
      "source": [
        "**CHECKING THE DISTRIBUTION OF RATINGS COLUMNS**"
      ]
    },
    {
      "cell_type": "code",
      "metadata": {
        "colab": {
          "base_uri": "https://localhost:8080/",
          "height": 302
        },
        "id": "yU9hcrx4IEsz",
        "outputId": "d47a60d9-a153-44b5-ce11-d524349e907a"
      },
      "source": [
        "\n",
        "plt.hist(df.rating,density=1,bins=20,alpha=0.6,color='green') # plotting histogram \n",
        "plt.xlabel('Ratings',fontsize=15)\n",
        "\n"
      ],
      "execution_count": 7,
      "outputs": [
        {
          "output_type": "execute_result",
          "data": {
            "text/plain": [
              "Text(0.5, 0, 'Ratings')"
            ]
          },
          "metadata": {},
          "execution_count": 7
        },
        {
          "output_type": "display_data",
          "data": {
            "image/png": "[encoded data removed]",
            "text/plain": [
              "<Figure size 432x288 with 1 Axes>"
            ]
          },
          "metadata": {
            "needs_background": "light"
          }
        }
      ]
    },
    {
      "cell_type": "code",
      "metadata": {
        "colab": {
          "base_uri": "https://localhost:8080/"
        },
        "id": "y-SIKgzJKMvz",
        "outputId": "b7f25bdd-c589-4bf9-b11f-094549cf52bf"
      },
      "source": [
        "\n",
        "df.isnull().sum() / df.shape[0] * 100.00"
      ],
      "execution_count": 8,
      "outputs": [
        {
          "output_type": "execute_result",
          "data": {
            "text/plain": [
              "Unnamed: 0       0.000000\n",
              "product          0.003629\n",
              "category         0.000000\n",
              "sub_category     0.000000\n",
              "brand            0.003629\n",
              "sale_price       0.000000\n",
              "market_price     0.000000\n",
              "image_url        0.000000\n",
              "p_url            0.000000\n",
              "type             0.000000\n",
              "eancode          2.046815\n",
              "rating          31.438940\n",
              "description      0.417347\n",
              "dtype: float64"
            ]
          },
          "metadata": {},
          "execution_count": 8
        }
      ]
    },
    {
      "cell_type": "markdown",
      "metadata": {
        "id": "MXk_NhH0loyu"
      },
      "source": [
        "**IMPUTING MISSING VALUES OF RATING COLUMNS WITH MEDIAN VALUES**"
      ]
    },
    {
      "cell_type": "code",
      "metadata": {
        "id": "l4hAB3sUK5d8"
      },
      "source": [
        "df1=df.copy()\n",
        "df1.rating.fillna(df1.rating.median(),inplace=True)\n"
      ],
      "execution_count": 9,
      "outputs": []
    },
    {
      "cell_type": "code",
      "metadata": {
        "colab": {
          "base_uri": "https://localhost:8080/",
          "height": 344
        },
        "id": "35RLJTpaLybk",
        "outputId": "e25d7557-41ee-4682-a078-912500d59da8"
      },
      "source": [
        "sns.heatmap(df1.isnull(),cmap='viridis')"
      ],
      "execution_count": 10,
      "outputs": [
        {
          "output_type": "execute_result",
          "data": {
            "text/plain": [
              "<matplotlib.axes._subplots.AxesSubplot at 0x7febf2fea390>"
            ]
          },
          "metadata": {},
          "execution_count": 10
        },
        {
          "output_type": "display_data",
          "data": {
            "image/png": "[encoded data removed]",
            "text/plain": [
              "<Figure size 432x288 with 2 Axes>"
            ]
          },
          "metadata": {
            "needs_background": "light"
          }
        }
      ]
    },
    {
      "cell_type": "code",
      "metadata": {
        "colab": {
          "base_uri": "https://localhost:8080/",
          "height": 380
        },
        "id": "HmXA05dHL2MQ",
        "outputId": "e5cde2d6-704b-4f76-884e-f8fe2cf6f942"
      },
      "source": [
        "df1.head(3)"
      ],
      "execution_count": 11,
      "outputs": [
        {
          "output_type": "execute_result",
          "data": {
            "text/html": [
              "<div>\n",
              "<style scoped>\n",
              "    .dataframe tbody tr th:only-of-type {\n",
              "        vertical-align: middle;\n",
              "    }\n",
              "\n",
              "    .dataframe tbody tr th {\n",
              "        vertical-align: top;\n",
              "    }\n",
              "\n",
              "    .dataframe thead th {\n",
              "        text-align: right;\n",
              "    }\n",
              "</style>\n",
              "<table border=\"1\" class=\"dataframe\">\n",
              "  <thead>\n",
              "    <tr style=\"text-align: right;\">\n",
              "      <th></th>\n",
              "      <th>Unnamed: 0</th>\n",
              "      <th>product</th>\n",
              "      <th>category</th>\n",
              "      <th>sub_category</th>\n",
              "      <th>brand</th>\n",
              "      <th>sale_price</th>\n",
              "      <th>market_price</th>\n",
              "      <th>image_url</th>\n",
              "      <th>p_url</th>\n",
              "      <th>type</th>\n",
              "      <th>eancode</th>\n",
              "      <th>rating</th>\n",
              "      <th>description</th>\n",
              "    </tr>\n",
              "  </thead>\n",
              "  <tbody>\n",
              "    <tr>\n",
              "      <th>0</th>\n",
              "      <td>0</td>\n",
              "      <td>Original Disinfectant Toilet Cleaner Liquid</td>\n",
              "      <td>Cleaning &amp; Household</td>\n",
              "      <td>All Purpose Cleaners</td>\n",
              "      <td>Harpic</td>\n",
              "      <td>489.00</td>\n",
              "      <td>534.0</td>\n",
              "      <td>https://www.bigbasket.com/media/uploads/p/s/12...</td>\n",
              "      <td>https://www.bigbasket.com/pd/1207190/harpic-or...</td>\n",
              "      <td>Toilet Cleaners</td>\n",
              "      <td>Invalid Code</td>\n",
              "      <td>4.2</td>\n",
              "      <td>Harpic All in One is the one-stop shop for all...</td>\n",
              "    </tr>\n",
              "    <tr>\n",
              "      <th>1</th>\n",
              "      <td>1</td>\n",
              "      <td>Disinfectant Surface &amp; Floor Cleaner Liquid - ...</td>\n",
              "      <td>Cleaning &amp; Household</td>\n",
              "      <td>All Purpose Cleaners</td>\n",
              "      <td>Lizol</td>\n",
              "      <td>302.00</td>\n",
              "      <td>380.0</td>\n",
              "      <td>https://www.bigbasket.com/media/uploads/p/s/24...</td>\n",
              "      <td>https://www.bigbasket.com/pd/249154/lizol-disi...</td>\n",
              "      <td>Floor &amp; Other Cleaners</td>\n",
              "      <td>8901396115113</td>\n",
              "      <td>4.2</td>\n",
              "      <td>Lizol is India's No.1 Household Cleaning Brand...</td>\n",
              "    </tr>\n",
              "    <tr>\n",
              "      <th>2</th>\n",
              "      <td>2</td>\n",
              "      <td>Surface Disinfectant Spray</td>\n",
              "      <td>Cleaning &amp; Household</td>\n",
              "      <td>All Purpose Cleaners</td>\n",
              "      <td>Savlon</td>\n",
              "      <td>256.76</td>\n",
              "      <td>318.0</td>\n",
              "      <td>https://www.bigbasket.com/media/uploads/p/s/12...</td>\n",
              "      <td>https://www.bigbasket.com/pd/1212019/savlon-su...</td>\n",
              "      <td>Disinfectant Spray &amp; Cleaners</td>\n",
              "      <td>Invalid Code</td>\n",
              "      <td>4.4</td>\n",
              "      <td>A wide variety of high traffic surfaces such a...</td>\n",
              "    </tr>\n",
              "  </tbody>\n",
              "</table>\n",
              "</div>"
            ],
            "text/plain": [
              "   Unnamed: 0  ...                                        description\n",
              "0           0  ...  Harpic All in One is the one-stop shop for all...\n",
              "1           1  ...  Lizol is India's No.1 Household Cleaning Brand...\n",
              "2           2  ...  A wide variety of high traffic surfaces such a...\n",
              "\n",
              "[3 rows x 13 columns]"
            ]
          },
          "metadata": {},
          "execution_count": 11
        }
      ]
    },
    {
      "cell_type": "code",
      "metadata": {
        "colab": {
          "base_uri": "https://localhost:8080/"
        },
        "id": "TE_fpf5rMDcX",
        "outputId": "d368a631-6625-4674-f5f0-ebe1816d25bb"
      },
      "source": [
        "df1.columns"
      ],
      "execution_count": 12,
      "outputs": [
        {
          "output_type": "execute_result",
          "data": {
            "text/plain": [
              "Index(['Unnamed: 0', 'product', 'category', 'sub_category', 'brand',\n",
              "       'sale_price', 'market_price', 'image_url', 'p_url', 'type', 'eancode',\n",
              "       'rating', 'description'],\n",
              "      dtype='object')"
            ]
          },
          "metadata": {},
          "execution_count": 12
        }
      ]
    },
    {
      "cell_type": "markdown",
      "metadata": {
        "id": "oe-wSRBBl_Xr"
      },
      "source": [
        "**REMOVING UNWANTED COLUMNS**"
      ]
    },
    {
      "cell_type": "code",
      "metadata": {
        "id": "8mv0h5gzM0S8"
      },
      "source": [
        "df1.drop(['image_url', 'p_url', 'eancode','description'], axis = 1, inplace = True)"
      ],
      "execution_count": 13,
      "outputs": []
    },
    {
      "cell_type": "code",
      "metadata": {
        "colab": {
          "base_uri": "https://localhost:8080/",
          "height": 142
        },
        "id": "tq6ZzKoWNfh-",
        "outputId": "4244c4bc-b7be-462c-db3a-2bf8cfac23af"
      },
      "source": [
        "df1.head(3)"
      ],
      "execution_count": 14,
      "outputs": [
        {
          "output_type": "execute_result",
          "data": {
            "text/html": [
              "<div>\n",
              "<style scoped>\n",
              "    .dataframe tbody tr th:only-of-type {\n",
              "        vertical-align: middle;\n",
              "    }\n",
              "\n",
              "    .dataframe tbody tr th {\n",
              "        vertical-align: top;\n",
              "    }\n",
              "\n",
              "    .dataframe thead th {\n",
              "        text-align: right;\n",
              "    }\n",
              "</style>\n",
              "<table border=\"1\" class=\"dataframe\">\n",
              "  <thead>\n",
              "    <tr style=\"text-align: right;\">\n",
              "      <th></th>\n",
              "      <th>Unnamed: 0</th>\n",
              "      <th>product</th>\n",
              "      <th>category</th>\n",
              "      <th>sub_category</th>\n",
              "      <th>brand</th>\n",
              "      <th>sale_price</th>\n",
              "      <th>market_price</th>\n",
              "      <th>type</th>\n",
              "      <th>rating</th>\n",
              "    </tr>\n",
              "  </thead>\n",
              "  <tbody>\n",
              "    <tr>\n",
              "      <th>0</th>\n",
              "      <td>0</td>\n",
              "      <td>Original Disinfectant Toilet Cleaner Liquid</td>\n",
              "      <td>Cleaning &amp; Household</td>\n",
              "      <td>All Purpose Cleaners</td>\n",
              "      <td>Harpic</td>\n",
              "      <td>489.00</td>\n",
              "      <td>534.0</td>\n",
              "      <td>Toilet Cleaners</td>\n",
              "      <td>4.2</td>\n",
              "    </tr>\n",
              "    <tr>\n",
              "      <th>1</th>\n",
              "      <td>1</td>\n",
              "      <td>Disinfectant Surface &amp; Floor Cleaner Liquid - ...</td>\n",
              "      <td>Cleaning &amp; Household</td>\n",
              "      <td>All Purpose Cleaners</td>\n",
              "      <td>Lizol</td>\n",
              "      <td>302.00</td>\n",
              "      <td>380.0</td>\n",
              "      <td>Floor &amp; Other Cleaners</td>\n",
              "      <td>4.2</td>\n",
              "    </tr>\n",
              "    <tr>\n",
              "      <th>2</th>\n",
              "      <td>2</td>\n",
              "      <td>Surface Disinfectant Spray</td>\n",
              "      <td>Cleaning &amp; Household</td>\n",
              "      <td>All Purpose Cleaners</td>\n",
              "      <td>Savlon</td>\n",
              "      <td>256.76</td>\n",
              "      <td>318.0</td>\n",
              "      <td>Disinfectant Spray &amp; Cleaners</td>\n",
              "      <td>4.4</td>\n",
              "    </tr>\n",
              "  </tbody>\n",
              "</table>\n",
              "</div>"
            ],
            "text/plain": [
              "   Unnamed: 0  ... rating\n",
              "0           0  ...    4.2\n",
              "1           1  ...    4.2\n",
              "2           2  ...    4.4\n",
              "\n",
              "[3 rows x 9 columns]"
            ]
          },
          "metadata": {},
          "execution_count": 14
        }
      ]
    },
    {
      "cell_type": "code",
      "metadata": {
        "colab": {
          "base_uri": "https://localhost:8080/",
          "height": 110
        },
        "id": "L6cflUxSNg_E",
        "outputId": "508b29b0-2726-48a5-fbfc-1338a26d70a1"
      },
      "source": [
        "del df1['Unnamed: 0']\n",
        "df1.head(2)"
      ],
      "execution_count": 15,
      "outputs": [
        {
          "output_type": "execute_result",
          "data": {
            "text/html": [
              "<div>\n",
              "<style scoped>\n",
              "    .dataframe tbody tr th:only-of-type {\n",
              "        vertical-align: middle;\n",
              "    }\n",
              "\n",
              "    .dataframe tbody tr th {\n",
              "        vertical-align: top;\n",
              "    }\n",
              "\n",
              "    .dataframe thead th {\n",
              "        text-align: right;\n",
              "    }\n",
              "</style>\n",
              "<table border=\"1\" class=\"dataframe\">\n",
              "  <thead>\n",
              "    <tr style=\"text-align: right;\">\n",
              "      <th></th>\n",
              "      <th>product</th>\n",
              "      <th>category</th>\n",
              "      <th>sub_category</th>\n",
              "      <th>brand</th>\n",
              "      <th>sale_price</th>\n",
              "      <th>market_price</th>\n",
              "      <th>type</th>\n",
              "      <th>rating</th>\n",
              "    </tr>\n",
              "  </thead>\n",
              "  <tbody>\n",
              "    <tr>\n",
              "      <th>0</th>\n",
              "      <td>Original Disinfectant Toilet Cleaner Liquid</td>\n",
              "      <td>Cleaning &amp; Household</td>\n",
              "      <td>All Purpose Cleaners</td>\n",
              "      <td>Harpic</td>\n",
              "      <td>489.0</td>\n",
              "      <td>534.0</td>\n",
              "      <td>Toilet Cleaners</td>\n",
              "      <td>4.2</td>\n",
              "    </tr>\n",
              "    <tr>\n",
              "      <th>1</th>\n",
              "      <td>Disinfectant Surface &amp; Floor Cleaner Liquid - ...</td>\n",
              "      <td>Cleaning &amp; Household</td>\n",
              "      <td>All Purpose Cleaners</td>\n",
              "      <td>Lizol</td>\n",
              "      <td>302.0</td>\n",
              "      <td>380.0</td>\n",
              "      <td>Floor &amp; Other Cleaners</td>\n",
              "      <td>4.2</td>\n",
              "    </tr>\n",
              "  </tbody>\n",
              "</table>\n",
              "</div>"
            ],
            "text/plain": [
              "                                             product  ... rating\n",
              "0        Original Disinfectant Toilet Cleaner Liquid  ...    4.2\n",
              "1  Disinfectant Surface & Floor Cleaner Liquid - ...  ...    4.2\n",
              "\n",
              "[2 rows x 8 columns]"
            ]
          },
          "metadata": {},
          "execution_count": 15
        }
      ]
    },
    {
      "cell_type": "markdown",
      "metadata": {
        "id": "lnEAjWwcmIXc"
      },
      "source": [
        "**CHECKING FOR DUPLICATES AND REMOVING THEM**"
      ]
    },
    {
      "cell_type": "code",
      "metadata": {
        "colab": {
          "base_uri": "https://localhost:8080/",
          "height": 417
        },
        "id": "nbLuwCX-Pk5O",
        "outputId": "fbdc8e8f-6813-4034-8b65-5d99b1dbfa83"
      },
      "source": [
        "df1[df1.duplicated()]"
      ],
      "execution_count": 16,
      "outputs": [
        {
          "output_type": "execute_result",
          "data": {
            "text/html": [
              "<div>\n",
              "<style scoped>\n",
              "    .dataframe tbody tr th:only-of-type {\n",
              "        vertical-align: middle;\n",
              "    }\n",
              "\n",
              "    .dataframe tbody tr th {\n",
              "        vertical-align: top;\n",
              "    }\n",
              "\n",
              "    .dataframe thead th {\n",
              "        text-align: right;\n",
              "    }\n",
              "</style>\n",
              "<table border=\"1\" class=\"dataframe\">\n",
              "  <thead>\n",
              "    <tr style=\"text-align: right;\">\n",
              "      <th></th>\n",
              "      <th>product</th>\n",
              "      <th>category</th>\n",
              "      <th>sub_category</th>\n",
              "      <th>brand</th>\n",
              "      <th>sale_price</th>\n",
              "      <th>market_price</th>\n",
              "      <th>type</th>\n",
              "      <th>rating</th>\n",
              "    </tr>\n",
              "  </thead>\n",
              "  <tbody>\n",
              "    <tr>\n",
              "      <th>438</th>\n",
              "      <td>Multi-Surface Cleaner and Deodorizer - Sparkli...</td>\n",
              "      <td>Cleaning &amp; Household</td>\n",
              "      <td>All Purpose Cleaners</td>\n",
              "      <td>Pine Sol</td>\n",
              "      <td>300.0</td>\n",
              "      <td>300.0</td>\n",
              "      <td>Imported Cleaners</td>\n",
              "      <td>5.0</td>\n",
              "    </tr>\n",
              "    <tr>\n",
              "      <th>2100</th>\n",
              "      <td>Neem Tulsi Tea Tree Body Scrub</td>\n",
              "      <td>Beauty &amp; Hygiene</td>\n",
              "      <td>Bath &amp; Hand Wash</td>\n",
              "      <td>Kama Ayurveda</td>\n",
              "      <td>1495.0</td>\n",
              "      <td>1495.0</td>\n",
              "      <td>Body Scrubs &amp; Exfoliants</td>\n",
              "      <td>4.1</td>\n",
              "    </tr>\n",
              "    <tr>\n",
              "      <th>2101</th>\n",
              "      <td>Lavender Try Me Personal Care Gift Set</td>\n",
              "      <td>Beauty &amp; Hygiene</td>\n",
              "      <td>Bath &amp; Hand Wash</td>\n",
              "      <td>Soulflower</td>\n",
              "      <td>850.0</td>\n",
              "      <td>1000.0</td>\n",
              "      <td>Bathing Bars &amp; Soaps</td>\n",
              "      <td>5.0</td>\n",
              "    </tr>\n",
              "    <tr>\n",
              "      <th>2102</th>\n",
              "      <td>Scrubber - Braided Back</td>\n",
              "      <td>Beauty &amp; Hygiene</td>\n",
              "      <td>Bath &amp; Hand Wash</td>\n",
              "      <td>Bare Essentials</td>\n",
              "      <td>157.5</td>\n",
              "      <td>175.0</td>\n",
              "      <td>Bathing Accessories</td>\n",
              "      <td>4.6</td>\n",
              "    </tr>\n",
              "    <tr>\n",
              "      <th>2103</th>\n",
              "      <td>Brush &amp; Pumice - Foot (with Handle)</td>\n",
              "      <td>Beauty &amp; Hygiene</td>\n",
              "      <td>Bath &amp; Hand Wash</td>\n",
              "      <td>Bare Essentials</td>\n",
              "      <td>135.0</td>\n",
              "      <td>150.0</td>\n",
              "      <td>Bathing Accessories</td>\n",
              "      <td>4.0</td>\n",
              "    </tr>\n",
              "    <tr>\n",
              "      <th>...</th>\n",
              "      <td>...</td>\n",
              "      <td>...</td>\n",
              "      <td>...</td>\n",
              "      <td>...</td>\n",
              "      <td>...</td>\n",
              "      <td>...</td>\n",
              "      <td>...</td>\n",
              "      <td>...</td>\n",
              "    </tr>\n",
              "    <tr>\n",
              "      <th>24125</th>\n",
              "      <td>Baby Fork Set - Orchid</td>\n",
              "      <td>Kitchen, Garden &amp; Pets</td>\n",
              "      <td>Crockery &amp; Cutlery</td>\n",
              "      <td>Montavo</td>\n",
              "      <td>185.0</td>\n",
              "      <td>185.0</td>\n",
              "      <td>Cutlery, Spoon &amp; Fork</td>\n",
              "      <td>3.0</td>\n",
              "    </tr>\n",
              "    <tr>\n",
              "      <th>24126</th>\n",
              "      <td>Pure Melamine Small Tray - Peruvian Lily</td>\n",
              "      <td>Kitchen, Garden &amp; Pets</td>\n",
              "      <td>Crockery &amp; Cutlery</td>\n",
              "      <td>Servewell</td>\n",
              "      <td>195.0</td>\n",
              "      <td>195.0</td>\n",
              "      <td>Plates &amp; Bowls</td>\n",
              "      <td>4.1</td>\n",
              "    </tr>\n",
              "    <tr>\n",
              "      <th>24127</th>\n",
              "      <td>Coffee-Tea-Milk Mug - Navy White Hearts Print</td>\n",
              "      <td>Kitchen, Garden &amp; Pets</td>\n",
              "      <td>Crockery &amp; Cutlery</td>\n",
              "      <td>Rslee</td>\n",
              "      <td>349.0</td>\n",
              "      <td>349.0</td>\n",
              "      <td>Cups, Mugs &amp; Tumblers</td>\n",
              "      <td>4.1</td>\n",
              "    </tr>\n",
              "    <tr>\n",
              "      <th>25043</th>\n",
              "      <td>Fields of Gold - Organic Little Millet</td>\n",
              "      <td>Foodgrains, Oil &amp; Masala</td>\n",
              "      <td>Dals &amp; Pulses</td>\n",
              "      <td>PRISTINE</td>\n",
              "      <td>90.0</td>\n",
              "      <td>90.0</td>\n",
              "      <td>Cereals &amp; Millets</td>\n",
              "      <td>3.5</td>\n",
              "    </tr>\n",
              "    <tr>\n",
              "      <th>26108</th>\n",
              "      <td>Green Coffee Powder</td>\n",
              "      <td>Gourmet &amp; World Food</td>\n",
              "      <td>Drinks &amp; Beverages</td>\n",
              "      <td>NUTRIWISH</td>\n",
              "      <td>400.0</td>\n",
              "      <td>400.0</td>\n",
              "      <td>Coffee &amp; Pre-Mix</td>\n",
              "      <td>4.1</td>\n",
              "    </tr>\n",
              "  </tbody>\n",
              "</table>\n",
              "<p>362 rows × 8 columns</p>\n",
              "</div>"
            ],
            "text/plain": [
              "                                                 product  ... rating\n",
              "438    Multi-Surface Cleaner and Deodorizer - Sparkli...  ...    5.0\n",
              "2100                      Neem Tulsi Tea Tree Body Scrub  ...    4.1\n",
              "2101              Lavender Try Me Personal Care Gift Set  ...    5.0\n",
              "2102                             Scrubber - Braided Back  ...    4.6\n",
              "2103                 Brush & Pumice - Foot (with Handle)  ...    4.0\n",
              "...                                                  ...  ...    ...\n",
              "24125                             Baby Fork Set - Orchid  ...    3.0\n",
              "24126           Pure Melamine Small Tray - Peruvian Lily  ...    4.1\n",
              "24127      Coffee-Tea-Milk Mug - Navy White Hearts Print  ...    4.1\n",
              "25043             Fields of Gold - Organic Little Millet  ...    3.5\n",
              "26108                                Green Coffee Powder  ...    4.1\n",
              "\n",
              "[362 rows x 8 columns]"
            ]
          },
          "metadata": {},
          "execution_count": 16
        }
      ]
    },
    {
      "cell_type": "code",
      "metadata": {
        "colab": {
          "base_uri": "https://localhost:8080/"
        },
        "id": "l8Z4P7O7QXLz",
        "outputId": "215522ac-c31b-45c2-f190-232ca75b1a31"
      },
      "source": [
        "df1[df1.duplicated()].shape"
      ],
      "execution_count": 17,
      "outputs": [
        {
          "output_type": "execute_result",
          "data": {
            "text/plain": [
              "(362, 8)"
            ]
          },
          "metadata": {},
          "execution_count": 17
        }
      ]
    },
    {
      "cell_type": "code",
      "metadata": {
        "colab": {
          "base_uri": "https://localhost:8080/"
        },
        "id": "kCEdlt-zRW8c",
        "outputId": "eda14f71-7734-4cd5-9757-136a6a693377"
      },
      "source": [
        "df1.shape"
      ],
      "execution_count": 18,
      "outputs": [
        {
          "output_type": "execute_result",
          "data": {
            "text/plain": [
              "(27555, 8)"
            ]
          },
          "metadata": {},
          "execution_count": 18
        }
      ]
    },
    {
      "cell_type": "code",
      "metadata": {
        "id": "NN23RH4xRdzX"
      },
      "source": [
        "df2=df1.copy()"
      ],
      "execution_count": 19,
      "outputs": []
    },
    {
      "cell_type": "code",
      "metadata": {
        "colab": {
          "base_uri": "https://localhost:8080/",
          "height": 110
        },
        "id": "UFIeQUSA-Ipn",
        "outputId": "88a6bd3f-f9f5-4257-8494-bd7f0c717d65"
      },
      "source": [
        "df2.head(2)"
      ],
      "execution_count": 20,
      "outputs": [
        {
          "output_type": "execute_result",
          "data": {
            "text/html": [
              "<div>\n",
              "<style scoped>\n",
              "    .dataframe tbody tr th:only-of-type {\n",
              "        vertical-align: middle;\n",
              "    }\n",
              "\n",
              "    .dataframe tbody tr th {\n",
              "        vertical-align: top;\n",
              "    }\n",
              "\n",
              "    .dataframe thead th {\n",
              "        text-align: right;\n",
              "    }\n",
              "</style>\n",
              "<table border=\"1\" class=\"dataframe\">\n",
              "  <thead>\n",
              "    <tr style=\"text-align: right;\">\n",
              "      <th></th>\n",
              "      <th>product</th>\n",
              "      <th>category</th>\n",
              "      <th>sub_category</th>\n",
              "      <th>brand</th>\n",
              "      <th>sale_price</th>\n",
              "      <th>market_price</th>\n",
              "      <th>type</th>\n",
              "      <th>rating</th>\n",
              "    </tr>\n",
              "  </thead>\n",
              "  <tbody>\n",
              "    <tr>\n",
              "      <th>0</th>\n",
              "      <td>Original Disinfectant Toilet Cleaner Liquid</td>\n",
              "      <td>Cleaning &amp; Household</td>\n",
              "      <td>All Purpose Cleaners</td>\n",
              "      <td>Harpic</td>\n",
              "      <td>489.0</td>\n",
              "      <td>534.0</td>\n",
              "      <td>Toilet Cleaners</td>\n",
              "      <td>4.2</td>\n",
              "    </tr>\n",
              "    <tr>\n",
              "      <th>1</th>\n",
              "      <td>Disinfectant Surface &amp; Floor Cleaner Liquid - ...</td>\n",
              "      <td>Cleaning &amp; Household</td>\n",
              "      <td>All Purpose Cleaners</td>\n",
              "      <td>Lizol</td>\n",
              "      <td>302.0</td>\n",
              "      <td>380.0</td>\n",
              "      <td>Floor &amp; Other Cleaners</td>\n",
              "      <td>4.2</td>\n",
              "    </tr>\n",
              "  </tbody>\n",
              "</table>\n",
              "</div>"
            ],
            "text/plain": [
              "                                             product  ... rating\n",
              "0        Original Disinfectant Toilet Cleaner Liquid  ...    4.2\n",
              "1  Disinfectant Surface & Floor Cleaner Liquid - ...  ...    4.2\n",
              "\n",
              "[2 rows x 8 columns]"
            ]
          },
          "metadata": {},
          "execution_count": 20
        }
      ]
    },
    {
      "cell_type": "code",
      "metadata": {
        "colab": {
          "base_uri": "https://localhost:8080/",
          "height": 417
        },
        "id": "G3fdwyKZ__ax",
        "outputId": "f0107954-308c-4a0a-ee37-25931ea15e00"
      },
      "source": [
        "df2[df2.duplicated()]"
      ],
      "execution_count": 21,
      "outputs": [
        {
          "output_type": "execute_result",
          "data": {
            "text/html": [
              "<div>\n",
              "<style scoped>\n",
              "    .dataframe tbody tr th:only-of-type {\n",
              "        vertical-align: middle;\n",
              "    }\n",
              "\n",
              "    .dataframe tbody tr th {\n",
              "        vertical-align: top;\n",
              "    }\n",
              "\n",
              "    .dataframe thead th {\n",
              "        text-align: right;\n",
              "    }\n",
              "</style>\n",
              "<table border=\"1\" class=\"dataframe\">\n",
              "  <thead>\n",
              "    <tr style=\"text-align: right;\">\n",
              "      <th></th>\n",
              "      <th>product</th>\n",
              "      <th>category</th>\n",
              "      <th>sub_category</th>\n",
              "      <th>brand</th>\n",
              "      <th>sale_price</th>\n",
              "      <th>market_price</th>\n",
              "      <th>type</th>\n",
              "      <th>rating</th>\n",
              "    </tr>\n",
              "  </thead>\n",
              "  <tbody>\n",
              "    <tr>\n",
              "      <th>438</th>\n",
              "      <td>Multi-Surface Cleaner and Deodorizer - Sparkli...</td>\n",
              "      <td>Cleaning &amp; Household</td>\n",
              "      <td>All Purpose Cleaners</td>\n",
              "      <td>Pine Sol</td>\n",
              "      <td>300.0</td>\n",
              "      <td>300.0</td>\n",
              "      <td>Imported Cleaners</td>\n",
              "      <td>5.0</td>\n",
              "    </tr>\n",
              "    <tr>\n",
              "      <th>2100</th>\n",
              "      <td>Neem Tulsi Tea Tree Body Scrub</td>\n",
              "      <td>Beauty &amp; Hygiene</td>\n",
              "      <td>Bath &amp; Hand Wash</td>\n",
              "      <td>Kama Ayurveda</td>\n",
              "      <td>1495.0</td>\n",
              "      <td>1495.0</td>\n",
              "      <td>Body Scrubs &amp; Exfoliants</td>\n",
              "      <td>4.1</td>\n",
              "    </tr>\n",
              "    <tr>\n",
              "      <th>2101</th>\n",
              "      <td>Lavender Try Me Personal Care Gift Set</td>\n",
              "      <td>Beauty &amp; Hygiene</td>\n",
              "      <td>Bath &amp; Hand Wash</td>\n",
              "      <td>Soulflower</td>\n",
              "      <td>850.0</td>\n",
              "      <td>1000.0</td>\n",
              "      <td>Bathing Bars &amp; Soaps</td>\n",
              "      <td>5.0</td>\n",
              "    </tr>\n",
              "    <tr>\n",
              "      <th>2102</th>\n",
              "      <td>Scrubber - Braided Back</td>\n",
              "      <td>Beauty &amp; Hygiene</td>\n",
              "      <td>Bath &amp; Hand Wash</td>\n",
              "      <td>Bare Essentials</td>\n",
              "      <td>157.5</td>\n",
              "      <td>175.0</td>\n",
              "      <td>Bathing Accessories</td>\n",
              "      <td>4.6</td>\n",
              "    </tr>\n",
              "    <tr>\n",
              "      <th>2103</th>\n",
              "      <td>Brush &amp; Pumice - Foot (with Handle)</td>\n",
              "      <td>Beauty &amp; Hygiene</td>\n",
              "      <td>Bath &amp; Hand Wash</td>\n",
              "      <td>Bare Essentials</td>\n",
              "      <td>135.0</td>\n",
              "      <td>150.0</td>\n",
              "      <td>Bathing Accessories</td>\n",
              "      <td>4.0</td>\n",
              "    </tr>\n",
              "    <tr>\n",
              "      <th>...</th>\n",
              "      <td>...</td>\n",
              "      <td>...</td>\n",
              "      <td>...</td>\n",
              "      <td>...</td>\n",
              "      <td>...</td>\n",
              "      <td>...</td>\n",
              "      <td>...</td>\n",
              "      <td>...</td>\n",
              "    </tr>\n",
              "    <tr>\n",
              "      <th>24125</th>\n",
              "      <td>Baby Fork Set - Orchid</td>\n",
              "      <td>Kitchen, Garden &amp; Pets</td>\n",
              "      <td>Crockery &amp; Cutlery</td>\n",
              "      <td>Montavo</td>\n",
              "      <td>185.0</td>\n",
              "      <td>185.0</td>\n",
              "      <td>Cutlery, Spoon &amp; Fork</td>\n",
              "      <td>3.0</td>\n",
              "    </tr>\n",
              "    <tr>\n",
              "      <th>24126</th>\n",
              "      <td>Pure Melamine Small Tray - Peruvian Lily</td>\n",
              "      <td>Kitchen, Garden &amp; Pets</td>\n",
              "      <td>Crockery &amp; Cutlery</td>\n",
              "      <td>Servewell</td>\n",
              "      <td>195.0</td>\n",
              "      <td>195.0</td>\n",
              "      <td>Plates &amp; Bowls</td>\n",
              "      <td>4.1</td>\n",
              "    </tr>\n",
              "    <tr>\n",
              "      <th>24127</th>\n",
              "      <td>Coffee-Tea-Milk Mug - Navy White Hearts Print</td>\n",
              "      <td>Kitchen, Garden &amp; Pets</td>\n",
              "      <td>Crockery &amp; Cutlery</td>\n",
              "      <td>Rslee</td>\n",
              "      <td>349.0</td>\n",
              "      <td>349.0</td>\n",
              "      <td>Cups, Mugs &amp; Tumblers</td>\n",
              "      <td>4.1</td>\n",
              "    </tr>\n",
              "    <tr>\n",
              "      <th>25043</th>\n",
              "      <td>Fields of Gold - Organic Little Millet</td>\n",
              "      <td>Foodgrains, Oil &amp; Masala</td>\n",
              "      <td>Dals &amp; Pulses</td>\n",
              "      <td>PRISTINE</td>\n",
              "      <td>90.0</td>\n",
              "      <td>90.0</td>\n",
              "      <td>Cereals &amp; Millets</td>\n",
              "      <td>3.5</td>\n",
              "    </tr>\n",
              "    <tr>\n",
              "      <th>26108</th>\n",
              "      <td>Green Coffee Powder</td>\n",
              "      <td>Gourmet &amp; World Food</td>\n",
              "      <td>Drinks &amp; Beverages</td>\n",
              "      <td>NUTRIWISH</td>\n",
              "      <td>400.0</td>\n",
              "      <td>400.0</td>\n",
              "      <td>Coffee &amp; Pre-Mix</td>\n",
              "      <td>4.1</td>\n",
              "    </tr>\n",
              "  </tbody>\n",
              "</table>\n",
              "<p>362 rows × 8 columns</p>\n",
              "</div>"
            ],
            "text/plain": [
              "                                                 product  ... rating\n",
              "438    Multi-Surface Cleaner and Deodorizer - Sparkli...  ...    5.0\n",
              "2100                      Neem Tulsi Tea Tree Body Scrub  ...    4.1\n",
              "2101              Lavender Try Me Personal Care Gift Set  ...    5.0\n",
              "2102                             Scrubber - Braided Back  ...    4.6\n",
              "2103                 Brush & Pumice - Foot (with Handle)  ...    4.0\n",
              "...                                                  ...  ...    ...\n",
              "24125                             Baby Fork Set - Orchid  ...    3.0\n",
              "24126           Pure Melamine Small Tray - Peruvian Lily  ...    4.1\n",
              "24127      Coffee-Tea-Milk Mug - Navy White Hearts Print  ...    4.1\n",
              "25043             Fields of Gold - Organic Little Millet  ...    3.5\n",
              "26108                                Green Coffee Powder  ...    4.1\n",
              "\n",
              "[362 rows x 8 columns]"
            ]
          },
          "metadata": {},
          "execution_count": 21
        }
      ]
    },
    {
      "cell_type": "code",
      "metadata": {
        "id": "MrOWyVtMAPW1"
      },
      "source": [
        "df1.drop_duplicates(keep=False,inplace=True)"
      ],
      "execution_count": 22,
      "outputs": []
    },
    {
      "cell_type": "code",
      "metadata": {
        "colab": {
          "base_uri": "https://localhost:8080/",
          "height": 49
        },
        "id": "mxsN99TKAVxV",
        "outputId": "5d15da30-3bee-4eca-e5e9-b418c0d90e4a"
      },
      "source": [
        "df1[df1.duplicated()]"
      ],
      "execution_count": 23,
      "outputs": [
        {
          "output_type": "execute_result",
          "data": {
            "text/html": [
              "<div>\n",
              "<style scoped>\n",
              "    .dataframe tbody tr th:only-of-type {\n",
              "        vertical-align: middle;\n",
              "    }\n",
              "\n",
              "    .dataframe tbody tr th {\n",
              "        vertical-align: top;\n",
              "    }\n",
              "\n",
              "    .dataframe thead th {\n",
              "        text-align: right;\n",
              "    }\n",
              "</style>\n",
              "<table border=\"1\" class=\"dataframe\">\n",
              "  <thead>\n",
              "    <tr style=\"text-align: right;\">\n",
              "      <th></th>\n",
              "      <th>product</th>\n",
              "      <th>category</th>\n",
              "      <th>sub_category</th>\n",
              "      <th>brand</th>\n",
              "      <th>sale_price</th>\n",
              "      <th>market_price</th>\n",
              "      <th>type</th>\n",
              "      <th>rating</th>\n",
              "    </tr>\n",
              "  </thead>\n",
              "  <tbody>\n",
              "  </tbody>\n",
              "</table>\n",
              "</div>"
            ],
            "text/plain": [
              "Empty DataFrame\n",
              "Columns: [product, category, sub_category, brand, sale_price, market_price, type, rating]\n",
              "Index: []"
            ]
          },
          "metadata": {},
          "execution_count": 23
        }
      ]
    },
    {
      "cell_type": "code",
      "metadata": {
        "colab": {
          "base_uri": "https://localhost:8080/"
        },
        "id": "bQxrWoPqAeG8",
        "outputId": "64dac7d3-b960-4ca4-ef40-cd5b3e11aea6"
      },
      "source": [
        "df1.shape#after removal of duplicates"
      ],
      "execution_count": 24,
      "outputs": [
        {
          "output_type": "execute_result",
          "data": {
            "text/plain": [
              "(26832, 8)"
            ]
          },
          "metadata": {},
          "execution_count": 24
        }
      ]
    },
    {
      "cell_type": "code",
      "metadata": {
        "colab": {
          "base_uri": "https://localhost:8080/"
        },
        "id": "O9gLxIwHAhwK",
        "outputId": "97d984be-d084-4ca1-8d5d-dacb614bf983"
      },
      "source": [
        "df2.shape#original"
      ],
      "execution_count": 25,
      "outputs": [
        {
          "output_type": "execute_result",
          "data": {
            "text/plain": [
              "(27555, 8)"
            ]
          },
          "metadata": {},
          "execution_count": 25
        }
      ]
    },
    {
      "cell_type": "code",
      "metadata": {
        "colab": {
          "base_uri": "https://localhost:8080/",
          "height": 172
        },
        "id": "ZF5U_JhUAkF5",
        "outputId": "06887ca4-60d6-4deb-9c4f-f44121b08056"
      },
      "source": [
        "df1.head(4)"
      ],
      "execution_count": 26,
      "outputs": [
        {
          "output_type": "execute_result",
          "data": {
            "text/html": [
              "<div>\n",
              "<style scoped>\n",
              "    .dataframe tbody tr th:only-of-type {\n",
              "        vertical-align: middle;\n",
              "    }\n",
              "\n",
              "    .dataframe tbody tr th {\n",
              "        vertical-align: top;\n",
              "    }\n",
              "\n",
              "    .dataframe thead th {\n",
              "        text-align: right;\n",
              "    }\n",
              "</style>\n",
              "<table border=\"1\" class=\"dataframe\">\n",
              "  <thead>\n",
              "    <tr style=\"text-align: right;\">\n",
              "      <th></th>\n",
              "      <th>product</th>\n",
              "      <th>category</th>\n",
              "      <th>sub_category</th>\n",
              "      <th>brand</th>\n",
              "      <th>sale_price</th>\n",
              "      <th>market_price</th>\n",
              "      <th>type</th>\n",
              "      <th>rating</th>\n",
              "    </tr>\n",
              "  </thead>\n",
              "  <tbody>\n",
              "    <tr>\n",
              "      <th>0</th>\n",
              "      <td>Original Disinfectant Toilet Cleaner Liquid</td>\n",
              "      <td>Cleaning &amp; Household</td>\n",
              "      <td>All Purpose Cleaners</td>\n",
              "      <td>Harpic</td>\n",
              "      <td>489.00</td>\n",
              "      <td>534.0</td>\n",
              "      <td>Toilet Cleaners</td>\n",
              "      <td>4.2</td>\n",
              "    </tr>\n",
              "    <tr>\n",
              "      <th>1</th>\n",
              "      <td>Disinfectant Surface &amp; Floor Cleaner Liquid - ...</td>\n",
              "      <td>Cleaning &amp; Household</td>\n",
              "      <td>All Purpose Cleaners</td>\n",
              "      <td>Lizol</td>\n",
              "      <td>302.00</td>\n",
              "      <td>380.0</td>\n",
              "      <td>Floor &amp; Other Cleaners</td>\n",
              "      <td>4.2</td>\n",
              "    </tr>\n",
              "    <tr>\n",
              "      <th>2</th>\n",
              "      <td>Surface Disinfectant Spray</td>\n",
              "      <td>Cleaning &amp; Household</td>\n",
              "      <td>All Purpose Cleaners</td>\n",
              "      <td>Savlon</td>\n",
              "      <td>256.76</td>\n",
              "      <td>318.0</td>\n",
              "      <td>Disinfectant Spray &amp; Cleaners</td>\n",
              "      <td>4.4</td>\n",
              "    </tr>\n",
              "    <tr>\n",
              "      <th>3</th>\n",
              "      <td>Harpic Disinfectant Toilet Cleaner Original200...</td>\n",
              "      <td>Cleaning &amp; Household</td>\n",
              "      <td>All Purpose Cleaners</td>\n",
              "      <td>bb Combo</td>\n",
              "      <td>74.48</td>\n",
              "      <td>76.0</td>\n",
              "      <td>Toilet Cleaners</td>\n",
              "      <td>4.1</td>\n",
              "    </tr>\n",
              "  </tbody>\n",
              "</table>\n",
              "</div>"
            ],
            "text/plain": [
              "                                             product  ... rating\n",
              "0        Original Disinfectant Toilet Cleaner Liquid  ...    4.2\n",
              "1  Disinfectant Surface & Floor Cleaner Liquid - ...  ...    4.2\n",
              "2                         Surface Disinfectant Spray  ...    4.4\n",
              "3  Harpic Disinfectant Toilet Cleaner Original200...  ...    4.1\n",
              "\n",
              "[4 rows x 8 columns]"
            ]
          },
          "metadata": {},
          "execution_count": 26
        }
      ]
    },
    {
      "cell_type": "code",
      "metadata": {
        "colab": {
          "base_uri": "https://localhost:8080/",
          "height": 172
        },
        "id": "lTgz0IyRArSd",
        "outputId": "58072693-833c-4914-b1c9-3548f7d63b45"
      },
      "source": [
        "df1['Profit']=df1['market_price']-df1['sale_price']\n",
        "df1.head(4)"
      ],
      "execution_count": 27,
      "outputs": [
        {
          "output_type": "execute_result",
          "data": {
            "text/html": [
              "<div>\n",
              "<style scoped>\n",
              "    .dataframe tbody tr th:only-of-type {\n",
              "        vertical-align: middle;\n",
              "    }\n",
              "\n",
              "    .dataframe tbody tr th {\n",
              "        vertical-align: top;\n",
              "    }\n",
              "\n",
              "    .dataframe thead th {\n",
              "        text-align: right;\n",
              "    }\n",
              "</style>\n",
              "<table border=\"1\" class=\"dataframe\">\n",
              "  <thead>\n",
              "    <tr style=\"text-align: right;\">\n",
              "      <th></th>\n",
              "      <th>product</th>\n",
              "      <th>category</th>\n",
              "      <th>sub_category</th>\n",
              "      <th>brand</th>\n",
              "      <th>sale_price</th>\n",
              "      <th>market_price</th>\n",
              "      <th>type</th>\n",
              "      <th>rating</th>\n",
              "      <th>Profit</th>\n",
              "    </tr>\n",
              "  </thead>\n",
              "  <tbody>\n",
              "    <tr>\n",
              "      <th>0</th>\n",
              "      <td>Original Disinfectant Toilet Cleaner Liquid</td>\n",
              "      <td>Cleaning &amp; Household</td>\n",
              "      <td>All Purpose Cleaners</td>\n",
              "      <td>Harpic</td>\n",
              "      <td>489.00</td>\n",
              "      <td>534.0</td>\n",
              "      <td>Toilet Cleaners</td>\n",
              "      <td>4.2</td>\n",
              "      <td>45.00</td>\n",
              "    </tr>\n",
              "    <tr>\n",
              "      <th>1</th>\n",
              "      <td>Disinfectant Surface &amp; Floor Cleaner Liquid - ...</td>\n",
              "      <td>Cleaning &amp; Household</td>\n",
              "      <td>All Purpose Cleaners</td>\n",
              "      <td>Lizol</td>\n",
              "      <td>302.00</td>\n",
              "      <td>380.0</td>\n",
              "      <td>Floor &amp; Other Cleaners</td>\n",
              "      <td>4.2</td>\n",
              "      <td>78.00</td>\n",
              "    </tr>\n",
              "    <tr>\n",
              "      <th>2</th>\n",
              "      <td>Surface Disinfectant Spray</td>\n",
              "      <td>Cleaning &amp; Household</td>\n",
              "      <td>All Purpose Cleaners</td>\n",
              "      <td>Savlon</td>\n",
              "      <td>256.76</td>\n",
              "      <td>318.0</td>\n",
              "      <td>Disinfectant Spray &amp; Cleaners</td>\n",
              "      <td>4.4</td>\n",
              "      <td>61.24</td>\n",
              "    </tr>\n",
              "    <tr>\n",
              "      <th>3</th>\n",
              "      <td>Harpic Disinfectant Toilet Cleaner Original200...</td>\n",
              "      <td>Cleaning &amp; Household</td>\n",
              "      <td>All Purpose Cleaners</td>\n",
              "      <td>bb Combo</td>\n",
              "      <td>74.48</td>\n",
              "      <td>76.0</td>\n",
              "      <td>Toilet Cleaners</td>\n",
              "      <td>4.1</td>\n",
              "      <td>1.52</td>\n",
              "    </tr>\n",
              "  </tbody>\n",
              "</table>\n",
              "</div>"
            ],
            "text/plain": [
              "                                             product  ... Profit\n",
              "0        Original Disinfectant Toilet Cleaner Liquid  ...  45.00\n",
              "1  Disinfectant Surface & Floor Cleaner Liquid - ...  ...  78.00\n",
              "2                         Surface Disinfectant Spray  ...  61.24\n",
              "3  Harpic Disinfectant Toilet Cleaner Original200...  ...   1.52\n",
              "\n",
              "[4 rows x 9 columns]"
            ]
          },
          "metadata": {},
          "execution_count": 27
        }
      ]
    },
    {
      "cell_type": "code",
      "metadata": {
        "colab": {
          "base_uri": "https://localhost:8080/",
          "height": 142
        },
        "id": "Ofa_zi7BGz0S",
        "outputId": "752e8f42-59b6-4a36-f159-14c8ccc8ec84"
      },
      "source": [
        "df1.head(3)"
      ],
      "execution_count": 28,
      "outputs": [
        {
          "output_type": "execute_result",
          "data": {
            "text/html": [
              "<div>\n",
              "<style scoped>\n",
              "    .dataframe tbody tr th:only-of-type {\n",
              "        vertical-align: middle;\n",
              "    }\n",
              "\n",
              "    .dataframe tbody tr th {\n",
              "        vertical-align: top;\n",
              "    }\n",
              "\n",
              "    .dataframe thead th {\n",
              "        text-align: right;\n",
              "    }\n",
              "</style>\n",
              "<table border=\"1\" class=\"dataframe\">\n",
              "  <thead>\n",
              "    <tr style=\"text-align: right;\">\n",
              "      <th></th>\n",
              "      <th>product</th>\n",
              "      <th>category</th>\n",
              "      <th>sub_category</th>\n",
              "      <th>brand</th>\n",
              "      <th>sale_price</th>\n",
              "      <th>market_price</th>\n",
              "      <th>type</th>\n",
              "      <th>rating</th>\n",
              "      <th>Profit</th>\n",
              "    </tr>\n",
              "  </thead>\n",
              "  <tbody>\n",
              "    <tr>\n",
              "      <th>0</th>\n",
              "      <td>Original Disinfectant Toilet Cleaner Liquid</td>\n",
              "      <td>Cleaning &amp; Household</td>\n",
              "      <td>All Purpose Cleaners</td>\n",
              "      <td>Harpic</td>\n",
              "      <td>489.00</td>\n",
              "      <td>534.0</td>\n",
              "      <td>Toilet Cleaners</td>\n",
              "      <td>4.2</td>\n",
              "      <td>45.00</td>\n",
              "    </tr>\n",
              "    <tr>\n",
              "      <th>1</th>\n",
              "      <td>Disinfectant Surface &amp; Floor Cleaner Liquid - ...</td>\n",
              "      <td>Cleaning &amp; Household</td>\n",
              "      <td>All Purpose Cleaners</td>\n",
              "      <td>Lizol</td>\n",
              "      <td>302.00</td>\n",
              "      <td>380.0</td>\n",
              "      <td>Floor &amp; Other Cleaners</td>\n",
              "      <td>4.2</td>\n",
              "      <td>78.00</td>\n",
              "    </tr>\n",
              "    <tr>\n",
              "      <th>2</th>\n",
              "      <td>Surface Disinfectant Spray</td>\n",
              "      <td>Cleaning &amp; Household</td>\n",
              "      <td>All Purpose Cleaners</td>\n",
              "      <td>Savlon</td>\n",
              "      <td>256.76</td>\n",
              "      <td>318.0</td>\n",
              "      <td>Disinfectant Spray &amp; Cleaners</td>\n",
              "      <td>4.4</td>\n",
              "      <td>61.24</td>\n",
              "    </tr>\n",
              "  </tbody>\n",
              "</table>\n",
              "</div>"
            ],
            "text/plain": [
              "                                             product  ... Profit\n",
              "0        Original Disinfectant Toilet Cleaner Liquid  ...  45.00\n",
              "1  Disinfectant Surface & Floor Cleaner Liquid - ...  ...  78.00\n",
              "2                         Surface Disinfectant Spray  ...  61.24\n",
              "\n",
              "[3 rows x 9 columns]"
            ]
          },
          "metadata": {},
          "execution_count": 28
        }
      ]
    },
    {
      "cell_type": "code",
      "metadata": {
        "colab": {
          "base_uri": "https://localhost:8080/",
          "height": 110
        },
        "id": "dcu6jfKvG1Sx",
        "outputId": "7e9f4fb2-67a5-472e-d4dc-92ecb4f1811c"
      },
      "source": [
        "df1['Profit(%)']=round((df1['Profit']/df1['sale_price'])*100,1)\n",
        "df1.head(2)"
      ],
      "execution_count": 29,
      "outputs": [
        {
          "output_type": "execute_result",
          "data": {
            "text/html": [
              "<div>\n",
              "<style scoped>\n",
              "    .dataframe tbody tr th:only-of-type {\n",
              "        vertical-align: middle;\n",
              "    }\n",
              "\n",
              "    .dataframe tbody tr th {\n",
              "        vertical-align: top;\n",
              "    }\n",
              "\n",
              "    .dataframe thead th {\n",
              "        text-align: right;\n",
              "    }\n",
              "</style>\n",
              "<table border=\"1\" class=\"dataframe\">\n",
              "  <thead>\n",
              "    <tr style=\"text-align: right;\">\n",
              "      <th></th>\n",
              "      <th>product</th>\n",
              "      <th>category</th>\n",
              "      <th>sub_category</th>\n",
              "      <th>brand</th>\n",
              "      <th>sale_price</th>\n",
              "      <th>market_price</th>\n",
              "      <th>type</th>\n",
              "      <th>rating</th>\n",
              "      <th>Profit</th>\n",
              "      <th>Profit(%)</th>\n",
              "    </tr>\n",
              "  </thead>\n",
              "  <tbody>\n",
              "    <tr>\n",
              "      <th>0</th>\n",
              "      <td>Original Disinfectant Toilet Cleaner Liquid</td>\n",
              "      <td>Cleaning &amp; Household</td>\n",
              "      <td>All Purpose Cleaners</td>\n",
              "      <td>Harpic</td>\n",
              "      <td>489.0</td>\n",
              "      <td>534.0</td>\n",
              "      <td>Toilet Cleaners</td>\n",
              "      <td>4.2</td>\n",
              "      <td>45.0</td>\n",
              "      <td>9.2</td>\n",
              "    </tr>\n",
              "    <tr>\n",
              "      <th>1</th>\n",
              "      <td>Disinfectant Surface &amp; Floor Cleaner Liquid - ...</td>\n",
              "      <td>Cleaning &amp; Household</td>\n",
              "      <td>All Purpose Cleaners</td>\n",
              "      <td>Lizol</td>\n",
              "      <td>302.0</td>\n",
              "      <td>380.0</td>\n",
              "      <td>Floor &amp; Other Cleaners</td>\n",
              "      <td>4.2</td>\n",
              "      <td>78.0</td>\n",
              "      <td>25.8</td>\n",
              "    </tr>\n",
              "  </tbody>\n",
              "</table>\n",
              "</div>"
            ],
            "text/plain": [
              "                                             product  ... Profit(%)\n",
              "0        Original Disinfectant Toilet Cleaner Liquid  ...       9.2\n",
              "1  Disinfectant Surface & Floor Cleaner Liquid - ...  ...      25.8\n",
              "\n",
              "[2 rows x 10 columns]"
            ]
          },
          "metadata": {},
          "execution_count": 29
        }
      ]
    },
    {
      "cell_type": "code",
      "metadata": {
        "colab": {
          "base_uri": "https://localhost:8080/"
        },
        "id": "x7LU0wwHj5Cl",
        "outputId": "8ed836ba-539c-499e-c4f1-ad9b3880c50f"
      },
      "source": [
        "df1.isnull().sum()"
      ],
      "execution_count": 30,
      "outputs": [
        {
          "output_type": "execute_result",
          "data": {
            "text/plain": [
              "product         1\n",
              "category        0\n",
              "sub_category    0\n",
              "brand           1\n",
              "sale_price      0\n",
              "market_price    0\n",
              "type            0\n",
              "rating          0\n",
              "Profit          0\n",
              "Profit(%)       0\n",
              "dtype: int64"
            ]
          },
          "metadata": {},
          "execution_count": 30
        }
      ]
    },
    {
      "cell_type": "code",
      "metadata": {
        "colab": {
          "base_uri": "https://localhost:8080/",
          "height": 344
        },
        "id": "jPR6fnpGkRK1",
        "outputId": "fb551b86-6ed3-4be0-cf78-c1cf0e254c65"
      },
      "source": [
        "sns.heatmap(df1.isnull(),cbar=False,cmap='viridis')"
      ],
      "execution_count": 31,
      "outputs": [
        {
          "output_type": "execute_result",
          "data": {
            "text/plain": [
              "<matplotlib.axes._subplots.AxesSubplot at 0x7febf188d350>"
            ]
          },
          "metadata": {},
          "execution_count": 31
        },
        {
          "output_type": "display_data",
          "data": {
            "image/png": "[encoded data removed]",
            "text/plain": [
              "<Figure size 432x288 with 1 Axes>"
            ]
          },
          "metadata": {
            "needs_background": "light"
          }
        }
      ]
    },
    {
      "cell_type": "code",
      "metadata": {
        "colab": {
          "base_uri": "https://localhost:8080/",
          "height": 344
        },
        "id": "0XgikM6okEfq",
        "outputId": "9157fd83-d05b-42a6-90d8-eaae73f4218c"
      },
      "source": [
        "df2=df1.copy()\n",
        "df1.dropna(inplace=True)\n",
        "sns.heatmap(df1.isnull(),cbar=False,cmap='viridis')"
      ],
      "execution_count": 32,
      "outputs": [
        {
          "output_type": "execute_result",
          "data": {
            "text/plain": [
              "<matplotlib.axes._subplots.AxesSubplot at 0x7febf1788ed0>"
            ]
          },
          "metadata": {},
          "execution_count": 32
        },
        {
          "output_type": "display_data",
          "data": {
            "image/png": "[encoded data removed]",
            "text/plain": [
              "<Figure size 432x288 with 1 Axes>"
            ]
          },
          "metadata": {
            "needs_background": "light"
          }
        }
      ]
    },
    {
      "cell_type": "code",
      "metadata": {
        "colab": {
          "base_uri": "https://localhost:8080/",
          "height": 110
        },
        "id": "a93U9XQXkYZ1",
        "outputId": "c9ea75bb-2b5e-48db-e53e-a5db30261edf"
      },
      "source": [
        "df1.head(2)"
      ],
      "execution_count": 33,
      "outputs": [
        {
          "output_type": "execute_result",
          "data": {
            "text/html": [
              "<div>\n",
              "<style scoped>\n",
              "    .dataframe tbody tr th:only-of-type {\n",
              "        vertical-align: middle;\n",
              "    }\n",
              "\n",
              "    .dataframe tbody tr th {\n",
              "        vertical-align: top;\n",
              "    }\n",
              "\n",
              "    .dataframe thead th {\n",
              "        text-align: right;\n",
              "    }\n",
              "</style>\n",
              "<table border=\"1\" class=\"dataframe\">\n",
              "  <thead>\n",
              "    <tr style=\"text-align: right;\">\n",
              "      <th></th>\n",
              "      <th>product</th>\n",
              "      <th>category</th>\n",
              "      <th>sub_category</th>\n",
              "      <th>brand</th>\n",
              "      <th>sale_price</th>\n",
              "      <th>market_price</th>\n",
              "      <th>type</th>\n",
              "      <th>rating</th>\n",
              "      <th>Profit</th>\n",
              "      <th>Profit(%)</th>\n",
              "    </tr>\n",
              "  </thead>\n",
              "  <tbody>\n",
              "    <tr>\n",
              "      <th>0</th>\n",
              "      <td>Original Disinfectant Toilet Cleaner Liquid</td>\n",
              "      <td>Cleaning &amp; Household</td>\n",
              "      <td>All Purpose Cleaners</td>\n",
              "      <td>Harpic</td>\n",
              "      <td>489.0</td>\n",
              "      <td>534.0</td>\n",
              "      <td>Toilet Cleaners</td>\n",
              "      <td>4.2</td>\n",
              "      <td>45.0</td>\n",
              "      <td>9.2</td>\n",
              "    </tr>\n",
              "    <tr>\n",
              "      <th>1</th>\n",
              "      <td>Disinfectant Surface &amp; Floor Cleaner Liquid - ...</td>\n",
              "      <td>Cleaning &amp; Household</td>\n",
              "      <td>All Purpose Cleaners</td>\n",
              "      <td>Lizol</td>\n",
              "      <td>302.0</td>\n",
              "      <td>380.0</td>\n",
              "      <td>Floor &amp; Other Cleaners</td>\n",
              "      <td>4.2</td>\n",
              "      <td>78.0</td>\n",
              "      <td>25.8</td>\n",
              "    </tr>\n",
              "  </tbody>\n",
              "</table>\n",
              "</div>"
            ],
            "text/plain": [
              "                                             product  ... Profit(%)\n",
              "0        Original Disinfectant Toilet Cleaner Liquid  ...       9.2\n",
              "1  Disinfectant Surface & Floor Cleaner Liquid - ...  ...      25.8\n",
              "\n",
              "[2 rows x 10 columns]"
            ]
          },
          "metadata": {},
          "execution_count": 33
        }
      ]
    },
    {
      "cell_type": "markdown",
      "metadata": {
        "id": "1jVK4a-gmRVz"
      },
      "source": [
        "**EXPORTING THE FINAL DATASET**"
      ]
    },
    {
      "cell_type": "code",
      "metadata": {
        "colab": {
          "base_uri": "https://localhost:8080/",
          "height": 17
        },
        "id": "jAAInn5sjyJ5",
        "outputId": "f6f18ff4-9ab9-4493-ec77-562cb3557ae4"
      },
      "source": [
        "df1.to_csv('new.csv', header=[\"product\", \"category\", \"sub_category\",\"brand\",\"sale_price\",\"market_price\",\"type\",\"rating\",\"Profit\",\"Profitpercenatge\"], index=False)\n",
        "files.download('new.csv')"
      ],
      "execution_count": 34,
      "outputs": [
        {
          "output_type": "display_data",
          "data": {
            "application/javascript": [
              "\n",
              "    async function download(id, filename, size) {\n",
              "      if (!google.colab.kernel.accessAllowed) {\n",
              "        return;\n",
              "      }\n",
              "      const div = document.createElement('div');\n",
              "      const label = document.createElement('label');\n",
              "      label.textContent = `Downloading \"${filename}\": `;\n",
              "      div.appendChild(label);\n",
              "      const progress = document.createElement('progress');\n",
              "      progress.max = size;\n",
              "      div.appendChild(progress);\n",
              "      document.body.appendChild(div);\n",
              "\n",
              "      const buffers = [];\n",
              "      let downloaded = 0;\n",
              "\n",
              "      const channel = await google.colab.kernel.comms.open(id);\n",
              "      // Send a message to notify the kernel that we're ready.\n",
              "      channel.send({})\n",
              "\n",
              "      for await (const message of channel.messages) {\n",
              "        // Send a message to notify the kernel that we're ready.\n",
              "        channel.send({})\n",
              "        if (message.buffers) {\n",
              "          for (const buffer of message.buffers) {\n",
              "            buffers.push(buffer);\n",
              "            downloaded += buffer.byteLength;\n",
              "            progress.value = downloaded;\n",
              "          }\n",
              "        }\n",
              "      }\n",
              "      const blob = new Blob(buffers, {type: 'application/binary'});\n",
              "      const a = document.createElement('a');\n",
              "      a.href = window.URL.createObjectURL(blob);\n",
              "      a.download = filename;\n",
              "      div.appendChild(a);\n",
              "      a.click();\n",
              "      div.remove();\n",
              "    }\n",
              "  "
            ],
            "text/plain": [
              "<IPython.core.display.Javascript object>"
            ]
          },
          "metadata": {}
        },
        {
          "output_type": "display_data",
          "data": {
            "application/javascript": [
              "download(\"download_1af9a792-207d-4570-ab9c-6b7760258d6b\", \"new.csv\", 3422860)"
            ],
            "text/plain": [
              "<IPython.core.display.Javascript object>"
            ]
          },
          "metadata": {}
        }
      ]
    }
  ]
}